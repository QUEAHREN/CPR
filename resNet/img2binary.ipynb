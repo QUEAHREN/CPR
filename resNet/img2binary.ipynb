{
 "cells": [
  {
   "cell_type": "code",
   "execution_count": 2,
   "id": "194a1c13",
   "metadata": {
    "ExecuteTime": {
     "end_time": "2022-04-13T16:10:23.500822Z",
     "start_time": "2022-04-13T16:10:23.016888Z"
    }
   },
   "outputs": [
    {
     "data": {
      "text/plain": [
       "True"
      ]
     },
     "execution_count": 2,
     "metadata": {},
     "output_type": "execute_result"
    }
   ],
   "source": [
    "import cv2\n",
    "import os\n",
    "from PIL import Image\n",
    "from matplotlib import pyplot as plt\n",
    "\n",
    "# 二值化mask图\n",
    "\n",
    "data_path = \"/media/queahren/DATA/服务外包大赛数据更新/训练数据/img_train_折线\"\n",
    "k = 4\n",
    "path = os.path.join(data_path, \"%d\" % k, \"draw_mask.png\")\n",
    "img = cv2.imread(path)\n",
    "gray_img = cv2.cvtColor(img, cv2.COLOR_BGR2GRAY)\n",
    "ret, binary_img = cv2.threshold(img, 127, 1, cv2.THRESH_BINARY)\n",
    "\n",
    "path = os.path.join(data_path, \"%d\" % k, \"draw_mask2.png\")\n",
    "cv2.imwrite(path, binary_img)"
   ]
  },
  {
   "cell_type": "code",
   "execution_count": 51,
   "id": "be9a247e",
   "metadata": {
    "ExecuteTime": {
     "end_time": "2022-04-12T06:06:04.217411Z",
     "start_time": "2022-04-12T06:05:13.865951Z"
    },
    "code_folding": []
   },
   "outputs": [],
   "source": [
    "# FCN 处理\n",
    "filepath = \"/media/queahren/DATA/VOCdevkit/VOC2007/SegmentationClass_old\"\n",
    "filename = os.listdir(filepath)  #图像名列表\n",
    "base_dir = filepath + \"/\"\n",
    "new_dir = \"/media/queahren/DATA/VOCdevkit/VOC2007/SegmentationClass/\" #以\\\\结尾\n",
    "for img in filename:\n",
    "    if(img.endswith('.png')):\n",
    "        im = cv2.imread(base_dir+img)      \n",
    "        gray_img = cv2.cvtColor(im, cv2.COLOR_BGR2GRAY)\n",
    "        ret, binary_img = cv2.threshold(gray_img, 127, 1, cv2.THRESH_BINARY)\n",
    "    \n",
    "        cv2.imwrite(new_dir+img, binary_img)"
   ]
  },
  {
   "cell_type": "code",
   "execution_count": 9,
   "id": "b79987f9",
   "metadata": {
    "ExecuteTime": {
     "end_time": "2022-04-13T04:56:46.126350Z",
     "start_time": "2022-04-13T04:56:26.386765Z"
    }
   },
   "outputs": [],
   "source": [
    "# UNet处理\n",
    "filepath = \"/media/queahren/DATA/Drive/train/1st_manual\"\n",
    "filename = os.listdir(filepath)  #图像名列表\n",
    "base_dir = filepath + \"/\"\n",
    "new_dir = \"/media/queahren/DATA/Drive/train/mask/\" #以\\\\结尾\n",
    "for img in filename:\n",
    "    if(img.endswith('.png')):\n",
    "        im = cv2.imread(base_dir+img)      \n",
    "        gray_img = cv2.cvtColor(im, cv2.COLOR_BGR2GRAY)\n",
    "        ret, binary_img = cv2.threshold(gray_img, -1, 255, cv2.THRESH_BINARY)\n",
    "    \n",
    "        cv2.imwrite(new_dir+img, binary_img)\n"
   ]
  },
  {
   "cell_type": "code",
   "execution_count": null,
   "id": "c7f1c06f",
   "metadata": {},
   "outputs": [],
   "source": [
    "# 对官方数据集处理\n",
    "filepath = \"/media/queahren/DATA/Drive/train/1st_manual_old\"\n",
    "filename = os.listdir(filepath)  #图像名列表\n",
    "base_dir = filepath + \"/\"\n",
    "new_dir = \"/media/queahren/DATA/Drive/train/mask/\" #以\\\\结尾\n",
    "for img in filename:\n",
    "    if(img.endswith('.png')):\n",
    "        im = cv2.imread(base_dir+img)      \n",
    "        gray_img = cv2.cvtColor(im, cv2.COLOR_BGR2GRAY)\n",
    "        ret, binary_img = cv2.threshold(gray_img, -1, 255, cv2.THRESH_BINARY)\n",
    "    \n",
    "        cv2.imwrite(new_dir+img, binary_img)"
   ]
  },
  {
   "cell_type": "code",
   "execution_count": 26,
   "id": "b18df254",
   "metadata": {
    "ExecuteTime": {
     "end_time": "2022-04-13T12:42:34.873307Z",
     "start_time": "2022-04-13T12:42:33.769005Z"
    },
    "scrolled": true
   },
   "outputs": [
    {
     "ename": "KeyboardInterrupt",
     "evalue": "",
     "output_type": "error",
     "traceback": [
      "\u001b[0;31m---------------------------------------------------------------------------\u001b[0m",
      "\u001b[0;31mKeyboardInterrupt\u001b[0m                         Traceback (most recent call last)",
      "\u001b[0;32m/tmp/ipykernel_103249/2357392771.py\u001b[0m in \u001b[0;36m<module>\u001b[0;34m\u001b[0m\n\u001b[1;32m      7\u001b[0m     \u001b[0;32mif\u001b[0m\u001b[0;34m(\u001b[0m\u001b[0mimg\u001b[0m\u001b[0;34m.\u001b[0m\u001b[0mendswith\u001b[0m\u001b[0;34m(\u001b[0m\u001b[0;34m'.png'\u001b[0m\u001b[0;34m)\u001b[0m\u001b[0;34m)\u001b[0m\u001b[0;34m:\u001b[0m\u001b[0;34m\u001b[0m\u001b[0;34m\u001b[0m\u001b[0m\n\u001b[1;32m      8\u001b[0m         \u001b[0mim\u001b[0m \u001b[0;34m=\u001b[0m \u001b[0mcv2\u001b[0m\u001b[0;34m.\u001b[0m\u001b[0mimread\u001b[0m\u001b[0;34m(\u001b[0m\u001b[0mbase_dir\u001b[0m\u001b[0;34m+\u001b[0m\u001b[0mimg\u001b[0m\u001b[0;34m)\u001b[0m\u001b[0;34m\u001b[0m\u001b[0;34m\u001b[0m\u001b[0m\n\u001b[0;32m----> 9\u001b[0;31m         \u001b[0mgray_img\u001b[0m \u001b[0;34m=\u001b[0m \u001b[0mcv2\u001b[0m\u001b[0;34m.\u001b[0m\u001b[0mcvtColor\u001b[0m\u001b[0;34m(\u001b[0m\u001b[0mim\u001b[0m\u001b[0;34m,\u001b[0m \u001b[0mcv2\u001b[0m\u001b[0;34m.\u001b[0m\u001b[0mCOLOR_BGR2GRAY\u001b[0m\u001b[0;34m)\u001b[0m\u001b[0;34m\u001b[0m\u001b[0;34m\u001b[0m\u001b[0m\n\u001b[0m\u001b[1;32m     10\u001b[0m         \u001b[0mret\u001b[0m\u001b[0;34m,\u001b[0m \u001b[0mbinary_img\u001b[0m \u001b[0;34m=\u001b[0m \u001b[0mcv2\u001b[0m\u001b[0;34m.\u001b[0m\u001b[0mthreshold\u001b[0m\u001b[0;34m(\u001b[0m\u001b[0mgray_img\u001b[0m\u001b[0;34m,\u001b[0m \u001b[0;36m180\u001b[0m\u001b[0;34m,\u001b[0m \u001b[0;36m255\u001b[0m\u001b[0;34m,\u001b[0m \u001b[0mcv2\u001b[0m\u001b[0;34m.\u001b[0m\u001b[0mTHRESH_BINARY\u001b[0m\u001b[0;34m)\u001b[0m\u001b[0;34m\u001b[0m\u001b[0;34m\u001b[0m\u001b[0m\n\u001b[1;32m     11\u001b[0m         \u001b[0mim2\u001b[0m \u001b[0;34m=\u001b[0m \u001b[0mImage\u001b[0m\u001b[0;34m.\u001b[0m\u001b[0mopen\u001b[0m\u001b[0;34m(\u001b[0m\u001b[0;34m\"/media/queahren/DATA/DATA_A28_same/mask/\"\u001b[0m\u001b[0;34m+\u001b[0m\u001b[0mimg\u001b[0m\u001b[0;34m.\u001b[0m\u001b[0msplit\u001b[0m\u001b[0;34m(\u001b[0m\u001b[0;34m'.'\u001b[0m\u001b[0;34m)\u001b[0m\u001b[0;34m[\u001b[0m\u001b[0;36m0\u001b[0m\u001b[0;34m]\u001b[0m \u001b[0;34m+\u001b[0m \u001b[0;34m\"_mask.png\"\u001b[0m\u001b[0;34m)\u001b[0m\u001b[0;34m\u001b[0m\u001b[0;34m\u001b[0m\u001b[0m\n",
      "\u001b[0;31mKeyboardInterrupt\u001b[0m: "
     ]
    }
   ],
   "source": [
    "###### 对官方数据集处理\n",
    "filepath = \"/media/queahren/DATA/DATA_A28_same/images\"\n",
    "filename = os.listdir(filepath)  #图像名列表\n",
    "base_dir = filepath + \"/\"\n",
    "new_dir = \"/media/queahren/DATA/DATA_A28_same/test/\" #以\\\\结尾\n",
    "for img in filename:\n",
    "    if(img.endswith('.png')):\n",
    "        im = cv2.imread(base_dir+img)      \n",
    "        gray_img = cv2.cvtColor(im, cv2.COLOR_BGR2GRAY)\n",
    "        ret, binary_img = cv2.threshold(gray_img, 180, 255, cv2.THRESH_BINARY)\n",
    "        im2 = Image.open(\"/media/queahren/DATA/DATA_A28_same/mask/\"+img.split('.')[0] + \"_mask.png\")      \n",
    "        gray_img = abs(gray_img-im2)\n",
    "        \n",
    "        cv2.imwrite(new_dir+img, gray_img)"
   ]
  },
  {
   "cell_type": "code",
   "execution_count": null,
   "id": "690bb0cb",
   "metadata": {
    "code_folding": [
     0
    ]
   },
   "outputs": [],
   "source": [
    "###### 对官方数据集处理\n",
    "filepath = \"/media/queahren/DATA/DATA_A28_same/images\"\n",
    "filename = os.listdir(filepath)  #图像名列表\n",
    "base_dir = filepath + \"/\"\n",
    "new_dir = \"/media/queahren/DATA/DATA_A28_same/test/\" #以\\\\结尾\n",
    "for imgname in filename:\n",
    "    if(imgname.endswith('.png')):  \n",
    "        print(imgname)\n",
    "#         gray_img = cv2.cvtColor(im, cv2.COLOR_BGR2GRAY)\n",
    "#         ret, binary_img = cv2.threshold(gray_img, 180, 255, cv2.THRESH_BINARY)\n",
    "        img = cv2.imread(base_dir + imgname)\n",
    "        gray = cv2.imread(base_dir + imgname, cv2.IMREAD_GRAYSCALE)\n",
    "        \n",
    "        \n",
    "        mean, std = cv2.meanStdDev(gray)\n",
    "        if mean < 50:\n",
    "            gray = 255 - gray\n",
    "            \n",
    "        bw = cv2.adaptiveThreshold(\n",
    "            gray, 255, cv2.ADAPTIVE_THRESH_GAUSSIAN_C, cv2.THRESH_BINARY_INV, 25, 25)\n",
    "        img2, ctrs, hier = cv2.findContours(\n",
    "            bw.copy(), cv2.RETR_EXTERNAL, cv2.CHAIN_APPROX_SIMPLE)\n",
    "        \n",
    "        pic1 = cv2.drawContours(img, ctrs, -1,color=(0,0,255),thickness=1)\n",
    "#         rects = [cv2.boundingRect(ctr) for ctr in ctrs]\n",
    "        \n",
    "# #         im2 = Image.open(\"/media/queahren/DATA/DATA_A28_same/mask/\"+img.split('.')[0] + \"_mask.png\")      \n",
    "# #         gray_img = abs(gray_img-im2)\n",
    "\n",
    "#         for rect in rects:\n",
    "\n",
    "#             x, y, w, h = rect\n",
    "#             roi = gray[y:y + h, x:x + w]\n",
    "# #             print(w,h)  \n",
    "            \n",
    "#             if (w > 60 and h > 60):\n",
    "#                 cv2.rectangle(img, (x, y), (x+w, y+h), (0, 0, 255), 1, 1, 0);\n",
    "                \n",
    "    \n",
    "        cv2.imwrite(new_dir+imgname, img2)"
   ]
  },
  {
   "cell_type": "code",
   "execution_count": 9,
   "id": "16d6417b",
   "metadata": {
    "ExecuteTime": {
     "end_time": "2022-04-13T16:18:52.402451Z",
     "start_time": "2022-04-13T16:18:51.665489Z"
    },
    "code_folding": [
     0
    ]
   },
   "outputs": [],
   "source": [
    "###### 对标注数据集处理\n",
    "filepath = \"/media/queahren/DATA/MYDATA/realmask\"\n",
    "filename = os.listdir(filepath)  #图像名列表\n",
    "base_dir = filepath + \"/\"\n",
    "new_dir = \"/media/queahren/DATA/MYDATA/1st_manual/\" #以\\\\结尾\n",
    "for img in filename:\n",
    "    if(img.endswith('.png')):\n",
    "        im = cv2.imread(base_dir+img)      \n",
    "        gray_img = cv2.cvtColor(im, cv2.COLOR_BGR2GRAY)\n",
    "        ret, binary_img = cv2.threshold(gray_img, 0, 255, cv2.THRESH_BINARY)\n",
    "        \n",
    "        cv2.imwrite(new_dir+img, binary_img)\n"
   ]
  },
  {
   "cell_type": "code",
   "execution_count": 10,
   "id": "a5176e97",
   "metadata": {
    "ExecuteTime": {
     "end_time": "2022-04-13T16:19:36.156739Z",
     "start_time": "2022-04-13T16:19:35.664673Z"
    },
    "code_folding": [
     0
    ]
   },
   "outputs": [],
   "source": [
    "###### 对标注数据集处理\n",
    "filepath = \"/media/queahren/DATA/MYDATA/1st_manual\"\n",
    "filename = os.listdir(filepath)  #图像名列表\n",
    "base_dir = filepath + \"/\"\n",
    "new_dir = \"/media/queahren/DATA/MYDATA/mask/\" #以\\\\结尾\n",
    "for img in filename:\n",
    "    if(img.endswith('.png')):\n",
    "        im = cv2.imread(base_dir+img)      \n",
    "        gray_img = cv2.cvtColor(im, cv2.COLOR_BGR2GRAY)\n",
    "        ret, binary_img = cv2.threshold(gray_img, -1, 255, cv2.THRESH_BINARY)\n",
    "        \n",
    "        cv2.imwrite(new_dir+img, binary_img)"
   ]
  },
  {
   "cell_type": "code",
   "execution_count": 12,
   "id": "a97c5423",
   "metadata": {
    "ExecuteTime": {
     "end_time": "2022-04-14T01:11:25.901696Z",
     "start_time": "2022-04-14T01:10:52.619228Z"
    }
   },
   "outputs": [],
   "source": [
    "###### 白片\n",
    "filepath = \"/media/queahren/DATA/DATA_A28_same/images\"\n",
    "filename = os.listdir(filepath)  #图像名列表\n",
    "base_dir = filepath + \"/\"\n",
    "new_dir = \"/media/queahren/DATA/DATA_A28_same/mask/\" #以\\\\结尾\n",
    "for img in filename:\n",
    "    if(img.endswith('.png')):\n",
    "        im = cv2.imread(base_dir+img)      \n",
    "        gray_img = cv2.cvtColor(im, cv2.COLOR_BGR2GRAY)\n",
    "        ret, binary_img = cv2.threshold(gray_img, -1, 255, cv2.THRESH_BINARY)\n",
    "        \n",
    "        cv2.imwrite(new_dir+img.split('.')[0] + \"_mask.png\", binary_img)"
   ]
  },
  {
   "cell_type": "code",
   "execution_count": null,
   "id": "a70c1053",
   "metadata": {},
   "outputs": [],
   "source": []
  }
 ],
 "metadata": {
  "kernelspec": {
   "display_name": "Env_Pytorch",
   "language": "python",
   "name": "env_pytorch"
  },
  "language_info": {
   "codemirror_mode": {
    "name": "ipython",
    "version": 3
   },
   "file_extension": ".py",
   "mimetype": "text/x-python",
   "name": "python",
   "nbconvert_exporter": "python",
   "pygments_lexer": "ipython3",
   "version": "3.7.11"
  },
  "toc": {
   "base_numbering": 1,
   "nav_menu": {},
   "number_sections": true,
   "sideBar": true,
   "skip_h1_title": false,
   "title_cell": "Table of Contents",
   "title_sidebar": "Contents",
   "toc_cell": false,
   "toc_position": {},
   "toc_section_display": true,
   "toc_window_display": false
  },
  "varInspector": {
   "cols": {
    "lenName": 16,
    "lenType": 16,
    "lenVar": 40
   },
   "kernels_config": {
    "python": {
     "delete_cmd_postfix": "",
     "delete_cmd_prefix": "del ",
     "library": "var_list.py",
     "varRefreshCmd": "print(var_dic_list())"
    },
    "r": {
     "delete_cmd_postfix": ") ",
     "delete_cmd_prefix": "rm(",
     "library": "var_list.r",
     "varRefreshCmd": "cat(var_dic_list()) "
    }
   },
   "position": {
    "height": "510.852px",
    "left": "960px",
    "right": "20px",
    "top": "119px",
    "width": "350px"
   },
   "types_to_exclude": [
    "module",
    "function",
    "builtin_function_or_method",
    "instance",
    "_Feature"
   ],
   "window_display": false
  }
 },
 "nbformat": 4,
 "nbformat_minor": 5
}
