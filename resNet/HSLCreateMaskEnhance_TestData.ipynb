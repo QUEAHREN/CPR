{
 "cells": [
  {
   "cell_type": "code",
   "execution_count": 1,
   "id": "e55f0ddc",
   "metadata": {
    "ExecuteTime": {
     "end_time": "2022-04-18T13:08:51.690886Z",
     "start_time": "2022-04-18T13:08:42.523217Z"
    },
    "scrolled": true
   },
   "outputs": [
    {
     "name": "stdout",
     "output_type": "stream",
     "text": [
      "curve_0.png\n",
      "curve_1.png\n",
      "curve_2.png\n",
      "curve_3.png\n",
      "curve_4.png\n",
      "curve_5.png\n"
     ]
    },
    {
     "ename": "KeyboardInterrupt",
     "evalue": "",
     "output_type": "error",
     "traceback": [
      "\u001b[0;31m---------------------------------------------------------------------------\u001b[0m",
      "\u001b[0;31mKeyboardInterrupt\u001b[0m                         Traceback (most recent call last)",
      "\u001b[0;32m/tmp/ipykernel_318241/2175787640.py\u001b[0m in \u001b[0;36m<module>\u001b[0;34m\u001b[0m\n\u001b[1;32m     71\u001b[0m     \u001b[0;32mfor\u001b[0m \u001b[0mi\u001b[0m \u001b[0;32min\u001b[0m \u001b[0mrange\u001b[0m\u001b[0;34m(\u001b[0m\u001b[0;36m0\u001b[0m\u001b[0;34m,\u001b[0m \u001b[0mshape\u001b[0m\u001b[0;34m[\u001b[0m\u001b[0;36m1\u001b[0m\u001b[0;34m]\u001b[0m\u001b[0;34m)\u001b[0m\u001b[0;34m:\u001b[0m  \u001b[0;31m# shape[0]行总数  shape[1]是列总数\u001b[0m\u001b[0;34m\u001b[0m\u001b[0;34m\u001b[0m\u001b[0m\n\u001b[1;32m     72\u001b[0m         \u001b[0;32mfor\u001b[0m \u001b[0mj\u001b[0m \u001b[0;32min\u001b[0m \u001b[0mrange\u001b[0m\u001b[0;34m(\u001b[0m\u001b[0;36m0\u001b[0m\u001b[0;34m,\u001b[0m \u001b[0mshape\u001b[0m\u001b[0;34m[\u001b[0m\u001b[0;36m0\u001b[0m\u001b[0;34m]\u001b[0m\u001b[0;34m)\u001b[0m\u001b[0;34m:\u001b[0m\u001b[0;34m\u001b[0m\u001b[0;34m\u001b[0m\u001b[0m\n\u001b[0;32m---> 73\u001b[0;31m             \u001b[0;32mif\u001b[0m \u001b[0mabs\u001b[0m\u001b[0;34m(\u001b[0m\u001b[0mHSV_img_array\u001b[0m\u001b[0;34m[\u001b[0m\u001b[0mj\u001b[0m\u001b[0;34m,\u001b[0m \u001b[0mi\u001b[0m\u001b[0;34m,\u001b[0m \u001b[0;36m0\u001b[0m\u001b[0;34m]\u001b[0m \u001b[0;34m-\u001b[0m \u001b[0mavg_h\u001b[0m\u001b[0;34m)\u001b[0m \u001b[0;34m<\u001b[0m \u001b[0;36m20\u001b[0m \u001b[0;32mand\u001b[0m \u001b[0mHSV_img_array\u001b[0m\u001b[0;34m[\u001b[0m\u001b[0mj\u001b[0m\u001b[0;34m,\u001b[0m \u001b[0mi\u001b[0m\u001b[0;34m,\u001b[0m \u001b[0;36m1\u001b[0m\u001b[0;34m]\u001b[0m \u001b[0;34m>\u001b[0m \u001b[0;36m30\u001b[0m \u001b[0;32mand\u001b[0m \u001b[0mHSV_img_array\u001b[0m\u001b[0;34m[\u001b[0m\u001b[0mj\u001b[0m\u001b[0;34m,\u001b[0m \u001b[0mi\u001b[0m\u001b[0;34m,\u001b[0m \u001b[0;36m2\u001b[0m\u001b[0;34m]\u001b[0m \u001b[0;34m>\u001b[0m \u001b[0;36m46\u001b[0m\u001b[0;34m:\u001b[0m\u001b[0;34m\u001b[0m\u001b[0;34m\u001b[0m\u001b[0m\n\u001b[0m\u001b[1;32m     74\u001b[0m                 \u001b[0mmymask\u001b[0m\u001b[0;34m[\u001b[0m\u001b[0mj\u001b[0m\u001b[0;34m,\u001b[0m \u001b[0mi\u001b[0m\u001b[0;34m]\u001b[0m \u001b[0;34m=\u001b[0m \u001b[0;36m255\u001b[0m\u001b[0;34m\u001b[0m\u001b[0;34m\u001b[0m\u001b[0m\n\u001b[1;32m     75\u001b[0m \u001b[0;34m\u001b[0m\u001b[0m\n",
      "\u001b[0;31mKeyboardInterrupt\u001b[0m: "
     ]
    },
    {
     "data": {
      "image/png": "[encoded data removed]",
      "text/plain": [
       "<Figure size 432x288 with 1 Axes>"
      ]
     },
     "metadata": {
      "needs_background": "light"
     },
     "output_type": "display_data"
    }
   ],
   "source": [
    "import cv2\n",
    "import os\n",
    "from PIL import Image\n",
    "from matplotlib import pyplot as plt\n",
    "import shutil\n",
    "data_path = \"/media/queahren/DATA/testData/测试数据\"\n",
    "image_path = data_path + '/result/'\n",
    "\n",
    "save_gray = data_path + \"/HSV/\"\n",
    "y_data_path = data_path + \"/Y_Data/\"\n",
    "save_enhance_mask_path = data_path + \"/enhance/\"\n",
    "\n",
    "base_dir = data_path + \"/images/\"\n",
    "\n",
    "def fun4(name1):  # name1: curve_3.txt  name = curve_3_mask.txt\n",
    "    try:\n",
    "        with open(y_data_path + name1.split('.')[0] + \".txt\", \"r\") as f:\n",
    "            file = f.readlines()\n",
    "            for line in file:\n",
    "                line = line.strip(\"\\n\")  # 去除末尾的换行符\n",
    "            file[0].strip(\"\\n\")\n",
    "            file[0] = file[0].split(\")\")[0]\n",
    "            file[0] = file[0].split(\"(\")[1]\n",
    "            x0_pixel = float(file[0].split(\",\")[1])\n",
    "        return x0_pixel\n",
    "    except:\n",
    "        print(\"cannot find this txt \")\n",
    "\n",
    "\n",
    "pictups = []\n",
    "for name in os.listdir(base_dir):\n",
    "    index = name.split('_')[1].split('.')[0]\n",
    "    if name.split('_')[0] == \"curve\":\n",
    "        pictups.append((int(index), name))\n",
    "\n",
    "pictups.sort(key=lambda tup: tup[0])\n",
    "\n",
    "for index, imgname in pictups:\n",
    "    \n",
    "#     imgname = \"curve_9.png\"\n",
    "    print(imgname)\n",
    "    maskname = imgname.split('.')[0] + \"_mask.png\"\n",
    "    \n",
    "    img = cv2.imread(base_dir + imgname) \n",
    "    HSV_img = cv2.cvtColor(img, cv2.COLOR_BGR2HSV)\n",
    "    plt.imshow(HSV_img)\n",
    "    HSV_img_array = np.asarray(HSV_img) \n",
    "    shape = HSV_img_array.shape\n",
    "#     print(shape)\n",
    "    cv2.imwrite(save_gray + imgname, HSV_img)\n",
    "    \n",
    "    mask_img = Image.open(image_path + maskname)\n",
    "    mask_img_array = np.asarray(mask_img) \n",
    "    shape = mask_img_array.shape\n",
    "    \n",
    "    cnt = 0\n",
    "    h = 0\n",
    "    for i in range(0, shape[1]):  # shape[0]行总数  shape[1]是列总数\n",
    "        for j in range(0, shape[0]):\n",
    "            if mask_img_array[j, i] > 0:\n",
    "                h += HSV_img_array[j, i, 0]\n",
    "                cnt += 1\n",
    "    avg_h = h/cnt\n",
    "#     print(avg_h)\n",
    "    \n",
    "    h, w = shape[0:2]\n",
    "    mymask = np.zeros((h,w),dtype=img.dtype)            \n",
    "    \n",
    "    x0_pixel = fun4(imgname)\n",
    "    \n",
    "    for i in range(0, shape[1]):  # shape[0]行总数  shape[1]是列总数\n",
    "        for j in range(0, shape[0]):\n",
    "            if abs(HSV_img_array[j, i, 0] - avg_h) < 20 and HSV_img_array[j, i, 1] > 30 and HSV_img_array[j, i, 2] > 46:\n",
    "                mymask[j, i] = 255\n",
    "    \n",
    "    mean, std = cv2.meanStdDev(mymask)\n",
    "    if mean < 3:\n",
    "        continue\n",
    "    \n",
    "    flag = True\n",
    "    for i in range(int(x0_pixel)-2, 0, -1):  # shape[0]行总数  shape[1]是列总数\n",
    "        for j in range(0, shape[0]):\n",
    "            if mymask[j, i] > 0:\n",
    "                flag = False\n",
    "                break\n",
    "    if flag:\n",
    "        cv2.imwrite(save_enhance_mask_path + maskname, mymask)\n",
    "    \n",
    "\n",
    "  "
   ]
  },
  {
   "cell_type": "code",
   "execution_count": null,
   "id": "41b5a456",
   "metadata": {},
   "outputs": [],
   "source": []
  }
 ],
 "metadata": {
  "kernelspec": {
   "display_name": "Env_Pytorch",
   "language": "python",
   "name": "env_pytorch"
  },
  "language_info": {
   "codemirror_mode": {
    "name": "ipython",
    "version": 3
   },
   "file_extension": ".py",
   "mimetype": "text/x-python",
   "name": "python",
   "nbconvert_exporter": "python",
   "pygments_lexer": "ipython3",
   "version": "3.7.11"
  },
  "toc": {
   "base_numbering": 1,
   "nav_menu": {},
   "number_sections": true,
   "sideBar": true,
   "skip_h1_title": false,
   "title_cell": "Table of Contents",
   "title_sidebar": "Contents",
   "toc_cell": false,
   "toc_position": {},
   "toc_section_display": true,
   "toc_window_display": false
  },
  "varInspector": {
   "cols": {
    "lenName": 16,
    "lenType": 16,
    "lenVar": 40
   },
   "kernels_config": {
    "python": {
     "delete_cmd_postfix": "",
     "delete_cmd_prefix": "del ",
     "library": "var_list.py",
     "varRefreshCmd": "print(var_dic_list())"
    },
    "r": {
     "delete_cmd_postfix": ") ",
     "delete_cmd_prefix": "rm(",
     "library": "var_list.r",
     "varRefreshCmd": "cat(var_dic_list()) "
    }
   },
   "types_to_exclude": [
    "module",
    "function",
    "builtin_function_or_method",
    "instance",
    "_Feature"
   ],
   "window_display": false
  }
 },
 "nbformat": 4,
 "nbformat_minor": 5
}
