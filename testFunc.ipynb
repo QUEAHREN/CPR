{
 "cells": [
  {
   "cell_type": "code",
   "execution_count": null,
   "id": "35bd36cb",
   "metadata": {
    "ExecuteTime": {
     "end_time": "2022-05-22T04:59:30.936208Z",
     "start_time": "2022-05-22T04:59:30.934001Z"
    },
    "scrolled": true
   },
   "outputs": [],
   "source": [
    "# 数据根目录\n",
    "data_path = \"/home/queahren/文档/A28_Data_Test\""
   ]
  },
  {
   "cell_type": "code",
   "execution_count": null,
   "id": "de64df8f",
   "metadata": {
    "ExecuteTime": {
     "end_time": "2022-05-22T05:01:01.823354Z",
     "start_time": "2022-05-22T04:59:32.744089Z"
    },
    "code_folding": [
     0
    ],
    "scrolled": true
   },
   "outputs": [],
   "source": [
    "# ResNet 提取坐标轴文本数据，并生成基准数据\n",
    "from resNet.getNum import getNum\n",
    "getNum(data_path)"
   ]
  },
  {
   "cell_type": "code",
   "execution_count": null,
   "id": "e07f3121",
   "metadata": {
    "ExecuteTime": {
     "end_time": "2022-05-22T05:34:36.796235Z",
     "start_time": "2022-05-22T05:34:36.658836Z"
    },
    "code_folding": [
     0
    ]
   },
   "outputs": [],
   "source": [
    "# 预处理数据，生成灰度图于 gray 文件夹、unet预测的兴趣区域 mask 图于 mask 文件夹\n",
    "\n",
    "import cv2\n",
    "import os\n",
    "from PIL import Image\n",
    "from matplotlib import pyplot as plt\n",
    "import shutil\n",
    "\n",
    "filepath = data_path + \"/images\"\n",
    "filename = os.listdir(filepath)  #图像名列表\n",
    "base_dir = filepath + \"/\"\n",
    "new_dir = data_path + \"/mask/\" #以\\\\结尾\n",
    "gray_dir = data_path + \"/gray/\"\n",
    "\n",
    "if not os.path.exists(new_dir):\n",
    "    os.mkdir(new_dir)\n",
    "if not os.path.exists(gray_dir):\n",
    "    os.mkdir(gray_dir)\n",
    "    \n",
    "for img in filename:\n",
    "    if(img.endswith('.png')):\n",
    "        im = cv2.imread(base_dir+img)      \n",
    "        gray_img = cv2.cvtColor(im, cv2.COLOR_BGR2GRAY)\n",
    "        ret, binary_img = cv2.threshold(gray_img, -1, 255, cv2.THRESH_BINARY)       \n",
    "        cv2.imwrite(new_dir+img.split('.')[0] + \"_mask.png\", binary_img)\n",
    "        cv2.imwrite(gray_dir+img, gray_img)"
   ]
  },
  {
   "cell_type": "code",
   "execution_count": null,
   "id": "6d77a839",
   "metadata": {
    "ExecuteTime": {
     "end_time": "2022-05-22T05:34:52.826486Z",
     "start_time": "2022-05-22T05:34:51.859120Z"
    },
    "code_folding": [
     0
    ],
    "scrolled": true
   },
   "outputs": [],
   "source": [
    "# UNET 提取折线/曲线 至 result 文件夹\n",
    " \n",
    "from unet.predict_unet import predict_unet\n",
    "import cv2\n",
    "\n",
    "save_path = data_path + \"/result/\"\n",
    "\n",
    "base_dir = data_path + \"/images\"\n",
    "filename = os.listdir(base_dir)\n",
    "base_dir = data_path + \"/\"\n",
    "\n",
    "if not os.path.exists(save_path):\n",
    "    os.mkdir(save_path)\n",
    "\n",
    "count = 0\n",
    "for imgname in filename:\n",
    "    if(imgname.endswith('.png')):\n",
    "        count += 1\n",
    "        print(imgname, count/len(filename))\n",
    "        predict_unet(base_dir, imgname, save_path)"
   ]
  },
  {
   "cell_type": "code",
   "execution_count": null,
   "id": "198cff21",
   "metadata": {
    "ExecuteTime": {
     "end_time": "2022-05-22T05:35:29.612293Z",
     "start_time": "2022-05-22T05:35:15.726960Z"
    },
    "code_folding": [
     0
    ],
    "scrolled": true
   },
   "outputs": [],
   "source": [
    "# 通过转化为 HSV 空间，利用 UNet 获取到的 result 进行进一步提取，置于 enhanceResult 文件夹中 \n",
    "\n",
    "from enhanceMask import enhanceMask\n",
    "data_path = \"/home/queahren/文档/A28_Data_Test\"\n",
    "enhanceMask(data_path,\"line\")\n",
    "enhanceMask(data_path,\"curve\")\n"
   ]
  },
  {
   "cell_type": "code",
   "execution_count": null,
   "id": "d09c891c",
   "metadata": {
    "ExecuteTime": {
     "end_time": "2022-05-22T05:36:42.554288Z",
     "start_time": "2022-05-22T05:36:42.547132Z"
    },
    "code_folding": []
   },
   "outputs": [],
   "source": [
    "# 合并提取结果至 mergeResult 文件夹\n",
    "import shutil\n",
    "import distutils.dir_util\n",
    "import os\n",
    "\n",
    "merge_path = data_path + \"/mergeResult/\"\n",
    "\n",
    "   \n",
    "distutils.dir_util.copy_tree(data_path + '/result',merge_path) \n",
    "distutils.dir_util.copy_tree(data_path + '/enhanceResult',merge_path) "
   ]
  },
  {
   "cell_type": "code",
   "execution_count": null,
   "id": "986448d0",
   "metadata": {
    "ExecuteTime": {
     "end_time": "2022-05-22T05:36:56.946900Z",
     "start_time": "2022-05-22T05:36:55.782105Z"
    },
    "code_folding": [],
    "scrolled": true
   },
   "outputs": [],
   "source": [
    "# 依据基准数据 与 分割result 进行采点并预估对应 Y 值， 输出结果于 check_test 及 根目录下xlsx文件\n",
    "from createYpixel import createYpixel\n",
    "from createExcel import createExcel\n",
    "data_path = \"/home/queahren/文档/A28_Data_Test\"\n",
    "createYpixel(data_path)\n",
    "createExcel(data_path)"
   ]
  },
  {
   "cell_type": "code",
   "execution_count": null,
   "id": "3104d766",
   "metadata": {},
   "outputs": [],
   "source": []
  }
 ],
 "metadata": {
  "kernelspec": {
   "display_name": "Env_Pytorch",
   "language": "python",
   "name": "env_pytorch"
  },
  "language_info": {
   "codemirror_mode": {
    "name": "ipython",
    "version": 3
   },
   "file_extension": ".py",
   "mimetype": "text/x-python",
   "name": "python",
   "nbconvert_exporter": "python",
   "pygments_lexer": "ipython3",
   "version": "3.7.11"
  },
  "toc": {
   "base_numbering": 1,
   "nav_menu": {},
   "number_sections": true,
   "sideBar": true,
   "skip_h1_title": false,
   "title_cell": "Table of Contents",
   "title_sidebar": "Contents",
   "toc_cell": false,
   "toc_position": {},
   "toc_section_display": true,
   "toc_window_display": false
  },
  "varInspector": {
   "cols": {
    "lenName": 16,
    "lenType": 16,
    "lenVar": 40
   },
   "kernels_config": {
    "python": {
     "delete_cmd_postfix": "",
     "delete_cmd_prefix": "del ",
     "library": "var_list.py",
     "varRefreshCmd": "print(var_dic_list())"
    },
    "r": {
     "delete_cmd_postfix": ") ",
     "delete_cmd_prefix": "rm(",
     "library": "var_list.r",
     "varRefreshCmd": "cat(var_dic_list()) "
    }
   },
   "types_to_exclude": [
    "module",
    "function",
    "builtin_function_or_method",
    "instance",
    "_Feature"
   ],
   "window_display": false
  }
 },
 "nbformat": 4,
 "nbformat_minor": 5
}
